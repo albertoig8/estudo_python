{
 "cells": [
  {
   "cell_type": "markdown",
   "metadata": {},
   "source": [
    "# primeiros Exemplos "
   ]
  },
  {
   "cell_type": "code",
   "execution_count": 2,
   "metadata": {},
   "outputs": [
    {
     "name": "stdout",
     "output_type": "stream",
     "text": [
      "primeiro programa\n",
      "Help on built-in function print in module builtins:\n",
      "\n",
      "print(...)\n",
      "    print(value, ..., sep=' ', end='\\n', file=sys.stdout, flush=False)\n",
      "    \n",
      "    Prints the values to a stream, or to sys.stdout by default.\n",
      "    Optional keyword arguments:\n",
      "    file:  a file-like object (stream); defaults to the current sys.stdout.\n",
      "    sep:   string inserted between values, default a space.\n",
      "    end:   string appended after the last value, default a newline.\n",
      "    flush: whether to forcibly flush the stream.\n",
      "\n"
     ]
    }
   ],
   "source": [
    "print('primeiro programa')\n",
    "1 \\\n",
    " + 2\n",
    "help(print)"
   ]
  },
  {
   "cell_type": "code",
   "execution_count": 4,
   "metadata": {},
   "outputs": [
    {
     "data": {
      "text/plain": [
       "15"
      ]
     },
     "execution_count": 4,
     "metadata": {},
     "output_type": "execute_result"
    }
   ],
   "source": [
    "1 + 2 + 3\n",
    "4 + 5 + 6"
   ]
  },
  {
   "cell_type": "code",
   "execution_count": 7,
   "metadata": {},
   "outputs": [
    {
     "name": "stdout",
     "output_type": "stream",
     "text": [
      "6\n",
      "15\n"
     ]
    }
   ],
   "source": [
    "print(1 + 2 + 3)\n",
    "print(4 + 5 + 6)"
   ]
  },
  {
   "cell_type": "markdown",
   "metadata": {},
   "source": [
    "# Tipos Básicos"
   ]
  },
  {
   "cell_type": "code",
   "execution_count": 18,
   "metadata": {},
   "outputs": [
    {
     "name": "stdout",
     "output_type": "stream",
     "text": [
      "True\n",
      "False\n",
      "2.2\n",
      "Aqui eu falo na minha língua\n",
      "Tb funciona\n",
      "Você é muito muito muito legal!\n",
      "[1, 2, 3]\n",
      "{'nome': 'pedro', 'idade': 22}\n",
      "None\n"
     ]
    }
   ],
   "source": [
    "print(True)\n",
    "print(False)\n",
    "print(1.2 + 1)\n",
    "print('Aqui eu falo na minha língua')\n",
    "print(\"Tb funciona\")\n",
    "print('Você é ' + 3 * 'muito ' + 'legal!')\n",
    "#print(3 + '3') -> ambiguidade\n",
    "print([1, 2, 3])\n",
    "print({'nome': 'pedro', 'idade': 22})\n",
    "print(None)"
   ]
  },
  {
   "cell_type": "markdown",
   "metadata": {},
   "source": [
    "# Variáveis"
   ]
  },
  {
   "cell_type": "code",
   "execution_count": 27,
   "metadata": {},
   "outputs": [
    {
     "name": "stdout",
     "output_type": "stream",
     "text": [
      "15.2\n",
      "Agora sou uma string\n"
     ]
    },
    {
     "data": {
      "text/plain": [
       "5.2"
      ]
     },
     "execution_count": 27,
     "metadata": {},
     "output_type": "execute_result"
    }
   ],
   "source": [
    "a = 10\n",
    "b = 5.2\n",
    "\n",
    "print(a + b)\n",
    "\n",
    "a = 'Agora sou uma string'\n",
    "print(a)\n",
    "a\n",
    "b\n",
    "\n",
    "#print(a + b)"
   ]
  },
  {
   "cell_type": "markdown",
   "metadata": {},
   "source": [
    "# Comentários "
   ]
  },
  {
   "cell_type": "code",
   "execution_count": 30,
   "metadata": {},
   "outputs": [
    {
     "name": "stdout",
     "output_type": "stream",
     "text": [
      "994.25\n",
      "Fim de verdade\n"
     ]
    }
   ],
   "source": [
    "#Minhas variáveis\n",
    "salario = 3450.45\n",
    "despesas = 2456.2\n",
    "\n",
    "'''\n",
    "A ideia é calcular o\n",
    "quanto vai sobrar no\n",
    "final do mês!\n",
    "'''\n",
    "print(salario - despesas)\n",
    "\n",
    "#print('Fim')\n",
    "print('Fim de verdade') # comentarios aqui tb vale!\n"
   ]
  },
  {
   "cell_type": "markdown",
   "metadata": {},
   "source": [
    "# Operadores Aritméticos "
   ]
  },
  {
   "cell_type": "code",
   "execution_count": 35,
   "metadata": {},
   "outputs": [
    {
     "name": "stdout",
     "output_type": "stream",
     "text": [
      "5\n",
      "-3\n",
      "10.6\n",
      "3.1333333333333333\n",
      "3.0\n",
      "256\n",
      "1\n",
      "24\n"
     ]
    }
   ],
   "source": [
    "print(2 + 3)\n",
    "print(4 - 7)\n",
    "print(2 * 5.3)\n",
    "print(9.4 / 3)\n",
    "print(9.4 // 3)\n",
    "print(2 ** 8)\n",
    "print(10 % 3)\n",
    "\n",
    "a = 12\n",
    "b = a\n",
    "print(a + b)"
   ]
  },
  {
   "cell_type": "code",
   "execution_count": 38,
   "metadata": {},
   "outputs": [
    {
     "data": {
      "text/plain": [
       "71.18491790925822"
      ]
     },
     "execution_count": 38,
     "metadata": {},
     "output_type": "execute_result"
    }
   ],
   "source": [
    "# Minhas variáveis\n",
    "salario = 3450.45\n",
    "despesas = 2456.2\n",
    "percentual_comprometido = despesas / salario * 100\n",
    "percentual_comprometido"
   ]
  },
  {
   "cell_type": "markdown",
   "metadata": {},
   "source": [
    "# Operadores Relacionais "
   ]
  },
  {
   "cell_type": "code",
   "execution_count": 43,
   "metadata": {},
   "outputs": [
    {
     "data": {
      "text/plain": [
       "False"
      ]
     },
     "execution_count": 43,
     "metadata": {},
     "output_type": "execute_result"
    }
   ],
   "source": [
    "3 > 4\n",
    "4 >= 3\n",
    "1 < 2\n",
    "3 <= 1\n",
    "3 != 2\n",
    "3 == 3\n",
    "2 == '2'"
   ]
  },
  {
   "cell_type": "markdown",
   "metadata": {},
   "source": [
    "# Operadores de Atribuição"
   ]
  },
  {
   "cell_type": "code",
   "execution_count": 9,
   "metadata": {},
   "outputs": [
    {
     "name": "stdout",
     "output_type": "stream",
     "text": [
      "10\n",
      "10\n",
      "7\n",
      "14\n",
      "3.5\n",
      "3.5\n",
      "22518.75390625\n",
      "87.0\n"
     ]
    }
   ],
   "source": [
    "a = 3\n",
    "a = a + 7\n",
    "print(a)\n",
    "\n",
    "a = 5\n",
    "a += 5\n",
    "print(a)\n",
    "\n",
    "a -= 3\n",
    "print(a)\n",
    "\n",
    "a *= 2\n",
    "print(a)\n",
    "\n",
    "a /= 4\n",
    "print(a)\n",
    "\n",
    "a %= 4\n",
    "print(a)\n",
    "\n",
    "a **= 8\n",
    "print(a)\n",
    "\n",
    "a //= 256\n",
    "print(a)"
   ]
  },
  {
   "cell_type": "markdown",
   "metadata": {},
   "source": [
    "# Operadores Lógicos"
   ]
  },
  {
   "cell_type": "code",
   "execution_count": 1,
   "metadata": {},
   "outputs": [
    {
     "data": {
      "text/plain": [
       "True"
      ]
     },
     "execution_count": 1,
     "metadata": {},
     "output_type": "execute_result"
    }
   ],
   "source": [
    "True or False\n",
    "7 != 3 and 2 > 3\n",
    "\n",
    "# Tabela verdade do AND\n",
    "True and True\n",
    "True and False\n",
    "False and True\n",
    "False and False\n",
    "\n",
    "# Tabela verdade do OR\n",
    "True or True\n",
    "True or False\n",
    "False or True\n",
    "False or False\n",
    "\n",
    "# Tabela verdade do XOR\n",
    "True != True\n",
    "True != False\n",
    "False != True\n",
    "False != False\n",
    "\n",
    "# Operadores de Negação (únario)\n",
    "not True\n",
    "not False\n",
    "\n",
    "not 0\n",
    "not 1\n",
    "\n",
    "# Cuidado\n",
    "True & False\n",
    "False | True\n",
    "True ^ False\n",
    "\n",
    "# AND Bit_a_bit\n",
    "# 3 = 11\n",
    "# 2 = 10\n",
    "# _ = 10\n",
    "3 & 2\n",
    "\n",
    "# OR Bit_a_bit\n",
    "# 3 = 11\n",
    "# 2 = 10\n",
    "# _ = 11\n",
    "3 | 2\n",
    "\n",
    "# XOR Bit_a_bit\n",
    "# 3 = 11\n",
    "# 2 = 10\n",
    "# _ = 01\n",
    "3 ^ 2\n",
    "\n",
    "# Um pouco de realidade\n",
    "saldo = 1000\n",
    "salario = 4000\n",
    "despesas = 2967\n",
    "\n",
    "saldo_positivo = saldo > 0\n",
    "despesas_controladas = salario >= 0.2 * salario\n",
    "\n",
    "meta = saldo_positivo and despesas_controladas\n",
    "meta"
   ]
  },
  {
   "cell_type": "code",
   "execution_count": 7,
   "metadata": {},
   "outputs": [
    {
     "name": "stdout",
     "output_type": "stream",
     "text": [
      "TV50=False TV32=True Sorvete=True Saldável=False\n"
     ]
    }
   ],
   "source": [
    "# Desafio Operadores lógicos\n",
    "\n",
    "# Os trabalhos\n",
    "trabalho_terca = True\n",
    "trabalho_quinta = False\n",
    "\n",
    "'''\n",
    "- Confirmando os 2: TV 50' + Sorvete\n",
    "- Confirmando apenas 1: TV 32' + Sorvete\n",
    "- Nenhum confirmado: Fica em casa\n",
    "'''\n",
    "tv_50 = trabalho_terca and trabalho_quinta\n",
    "tv_32 = trabalho_terca != trabalho_quinta #XOR\n",
    "sorvete = trabalho_terca or trabalho_quinta\n",
    "mais_saldavel = not sorvete\n",
    "\n",
    "print('TV50={} TV32={} Sorvete={} Saldável={}'\n",
    "      .format(tv_50, tv_32, sorvete, mais_saldavel))"
   ]
  },
  {
   "cell_type": "markdown",
   "metadata": {},
   "source": [
    "# Operadores Unários "
   ]
  },
  {
   "cell_type": "code",
   "execution_count": null,
   "metadata": {},
   "outputs": [],
   "source": []
  },
  {
   "cell_type": "code",
   "execution_count": 12,
   "metadata": {},
   "outputs": [
    {
     "data": {
      "text/plain": [
       "True"
      ]
     },
     "execution_count": 12,
     "metadata": {},
     "output_type": "execute_result"
    }
   ],
   "source": [
    "a = 3\n",
    "# a++\n",
    "a += 1\n",
    "a\n",
    "# a--\n",
    "++a\n",
    "-a\n",
    "+a\n",
    "\n",
    "not 0\n",
    "not 1\n",
    "not -2\n",
    "not False\n",
    "not not True"
   ]
  },
  {
   "cell_type": "markdown",
   "metadata": {},
   "source": [
    "# Operadores Ternários"
   ]
  },
  {
   "cell_type": "code",
   "execution_count": 17,
   "metadata": {},
   "outputs": [
    {
     "name": "stdout",
     "output_type": "stream",
     "text": [
      "Hoje estou com as roupas molhadas.\n",
      "Hoje estou com as roupas molhadas.\n"
     ]
    }
   ],
   "source": [
    "esta_chovendo = True\n",
    "print('Hoje estou com as roupas ' + ('secas.', 'molhadas.')[esta_chovendo])\n",
    "\n",
    "print('Hoje estou com as roupas ' + ('molhadas.' if esta_chovendo else 'secas.'))"
   ]
  },
  {
   "cell_type": "markdown",
   "metadata": {},
   "source": [
    "# Mais Operadores"
   ]
  },
  {
   "cell_type": "code",
   "execution_count": 26,
   "metadata": {},
   "outputs": [
    {
     "data": {
      "text/plain": [
       "True"
      ]
     },
     "execution_count": 26,
     "metadata": {},
     "output_type": "execute_result"
    }
   ],
   "source": [
    "# Operadores de Membro\n",
    "lista = [1, 2, 3, 'Ana', 'Carla']\n",
    "2 in lista\n",
    "'Ana' not in lista\n",
    "\n",
    "# Operadores de Identidade\n",
    "x = 3\n",
    "y = x\n",
    "z = 3\n",
    "x is y\n",
    "y is z\n",
    "x is not z\n",
    "\n",
    "lista_a = [1, 2, 3]\n",
    "lista_b = lista_a\n",
    "lista_c = [1, 2, 3]\n",
    "\n",
    "lista_a is lista_b\n",
    "lista_b is lista_c\n",
    "lista_a is not lista_c"
   ]
  },
  {
   "cell_type": "markdown",
   "metadata": {},
   "source": [
    "# Builtins"
   ]
  },
  {
   "cell_type": "code",
   "execution_count": 41,
   "metadata": {},
   "outputs": [
    {
     "name": "stdout",
     "output_type": "stream",
     "text": [
      "3.3333333333333335\n"
     ]
    },
    {
     "data": {
      "text/plain": [
       "13"
      ]
     },
     "execution_count": 41,
     "metadata": {},
     "output_type": "execute_result"
    }
   ],
   "source": [
    "# type()\n",
    "type(1)\n",
    "__builtins__.type('Fala Galera!')\n",
    "__builtins__.print(10 / 3)\n",
    "\n",
    "#__builtins__.help(__builtins__.dir)\n",
    "# dir()\n",
    "# dir(__builtins__)\n",
    "\n",
    "nome = 'João da silva'\n",
    "type(nome)\n",
    "__builtins__.len(nome)"
   ]
  },
  {
   "cell_type": "markdown",
   "metadata": {},
   "source": [
    "# Conversão de Tipos"
   ]
  },
  {
   "cell_type": "code",
   "execution_count": 54,
   "metadata": {},
   "outputs": [
    {
     "name": "stdout",
     "output_type": "stream",
     "text": [
      "<class 'int'>\n",
      "<class 'str'>\n",
      "5\n",
      "23\n",
      "5.4\n"
     ]
    }
   ],
   "source": [
    "2 + 3\n",
    "'2' + '3'\n",
    "# 2 + '3'\n",
    "# print(2 + '3')\n",
    "\n",
    "a = 2\n",
    "b = '3'\n",
    "\n",
    "print(type(a))\n",
    "print(type(b))\n",
    "\n",
    "print(a + int(b))\n",
    "print(str(a) + b)\n",
    "\n",
    "type(str(a))\n",
    "\n",
    "print(2 + float('3.4'))"
   ]
  },
  {
   "cell_type": "markdown",
   "metadata": {},
   "source": [
    "# Coerção Automática"
   ]
  },
  {
   "cell_type": "code",
   "execution_count": 68,
   "metadata": {},
   "outputs": [
    {
     "data": {
      "text/plain": [
       "float"
      ]
     },
     "execution_count": 68,
     "metadata": {},
     "output_type": "execute_result"
    }
   ],
   "source": [
    "10 / 2\n",
    "type(10 / 2)\n",
    "10 / 3\n",
    "10 // 3\n",
    "type(10 // 3)\n",
    "10 // 3.3\n",
    "type(10 // 3.3)\n",
    "10 / 2.5\n",
    "2 + True\n",
    "2 + False\n",
    "type(1 + 2)\n",
    "type(1 + 2.5)"
   ]
  },
  {
   "cell_type": "markdown",
   "metadata": {},
   "source": [
    "# Tipos Numéricos"
   ]
  },
  {
   "cell_type": "code",
   "execution_count": 88,
   "metadata": {},
   "outputs": [
    {
     "data": {
      "text/plain": [
       "3.6"
      ]
     },
     "execution_count": 88,
     "metadata": {},
     "output_type": "execute_result"
    }
   ],
   "source": [
    "dir(int)\n",
    "dir(float)\n",
    "\n",
    "a = 5\n",
    "b = 2.5\n",
    "a / b\n",
    "a + b\n",
    "a * b\n",
    "\n",
    "type(a)\n",
    "type(b)\n",
    "type(a - b)\n",
    "\n",
    "b.is_integer()\n",
    "5.0.is_integer()\n",
    "\n",
    "dir(int)\n",
    "int.__add__(2, 3)\n",
    "2 + 3\n",
    "\n",
    "(-2).__abs__()\n",
    "abs(-2)\n",
    "\n",
    "(-3.6).__abs__()\n",
    "dir(float)\n",
    "abs(-3.6)"
   ]
  },
  {
   "cell_type": "markdown",
   "metadata": {},
   "source": []
  },
  {
   "cell_type": "code",
   "execution_count": 101,
   "metadata": {},
   "outputs": [
    {
     "data": {
      "text/plain": [
       "['BasicContext',\n",
       " 'Clamped',\n",
       " 'Context',\n",
       " 'ConversionSyntax',\n",
       " 'Decimal',\n",
       " 'DecimalException',\n",
       " 'DecimalTuple',\n",
       " 'DefaultContext',\n",
       " 'DivisionByZero',\n",
       " 'DivisionImpossible',\n",
       " 'DivisionUndefined',\n",
       " 'ExtendedContext',\n",
       " 'FloatOperation',\n",
       " 'HAVE_THREADS',\n",
       " 'Inexact',\n",
       " 'InvalidContext',\n",
       " 'InvalidOperation',\n",
       " 'MAX_EMAX',\n",
       " 'MAX_PREC',\n",
       " 'MIN_EMIN',\n",
       " 'MIN_ETINY',\n",
       " 'Overflow',\n",
       " 'ROUND_05UP',\n",
       " 'ROUND_CEILING',\n",
       " 'ROUND_DOWN',\n",
       " 'ROUND_FLOOR',\n",
       " 'ROUND_HALF_DOWN',\n",
       " 'ROUND_HALF_EVEN',\n",
       " 'ROUND_HALF_UP',\n",
       " 'ROUND_UP',\n",
       " 'Rounded',\n",
       " 'Subnormal',\n",
       " 'Underflow',\n",
       " '__builtins__',\n",
       " '__cached__',\n",
       " '__doc__',\n",
       " '__file__',\n",
       " '__libmpdec_version__',\n",
       " '__loader__',\n",
       " '__name__',\n",
       " '__package__',\n",
       " '__spec__',\n",
       " '__version__',\n",
       " 'getcontext',\n",
       " 'localcontext',\n",
       " 'setcontext']"
      ]
     },
     "execution_count": 101,
     "metadata": {},
     "output_type": "execute_result"
    }
   ],
   "source": [
    "# 1.1 + 2.2\n",
    "from decimal import Decimal, getcontext\n",
    "Decimal(1) / Decimal(7)\n",
    "\n",
    "getcontext().prec = 4\n",
    "Decimal(1) / Decimal(7)\n",
    "Decimal.max(Decimal(1), Decimal(7))\n",
    "dir(Decimal)\n",
    "\n",
    "1.1 + 2.2\n",
    "getcontext().prec = 10\n",
    "Decimal(1.1) + Decimal(2.2)\n",
    "\n",
    "import decimal\n",
    "dir(decimal)\n"
   ]
  },
  {
   "cell_type": "markdown",
   "metadata": {},
   "source": [
    "#  Tipo String"
   ]
  },
  {
   "cell_type": "code",
   "execution_count": 15,
   "metadata": {},
   "outputs": [
    {
     "name": "stdout",
     "output_type": "stream",
     "text": [
      "Texto com múltipas\n",
      "... linhas\n"
     ]
    },
    {
     "data": {
      "text/plain": [
       "'Também é possivel\\n... com 3 aspas duplas'"
      ]
     },
     "execution_count": 15,
     "metadata": {},
     "output_type": "execute_result"
    }
   ],
   "source": [
    "dir(str)\n",
    "nome = 'Saulo Pedro'\n",
    "nome\n",
    "nome[0]\n",
    "# nome[0] = 'p'\n",
    "\n",
    "# 'marca d'água'\n",
    "\"Dias D'Avila\" == 'Dias D\\'Avila'\n",
    "texto = 'Texto entre apostrófos pode ter \"aspas\"'\n",
    "texto\n",
    "\n",
    "doc = '''Texto com múltipas\n",
    "... linhas'''\n",
    "doc\n",
    "print(doc)\n",
    "\n",
    "doc2 = \"\"\"Também é possivel\n",
    "... com 3 aspas duplas\"\"\"\n",
    "doc2"
   ]
  },
  {
   "cell_type": "code",
   "execution_count": 33,
   "metadata": {},
   "outputs": [
    {
     "data": {
      "text/plain": [
       "'aluaP anA'"
      ]
     },
     "execution_count": 33,
     "metadata": {},
     "output_type": "execute_result"
    }
   ],
   "source": [
    "nome = 'Ana Paula'\n",
    "nome[0]\n",
    "nome[6]\n",
    "nome[-3]\n",
    "nome[4:]\n",
    "nome[-5:]\n",
    "nome[:3]\n",
    "nome[2:5]\n",
    "\n",
    "numeros = '123456789'\n",
    "numeros\n",
    "numeros[::]\n",
    "numeros[::2]\n",
    "numeros[1::2]\n",
    "numeros[::-1]\n",
    "\n",
    "nome[::-1]"
   ]
  },
  {
   "cell_type": "code",
   "execution_count": 51,
   "metadata": {},
   "outputs": [
    {
     "data": {
      "text/plain": [
       "['PYTHON É UMA LINGUAG', 'M ', 'XC', 'L', 'NT', '']"
      ]
     },
     "execution_count": 51,
     "metadata": {},
     "output_type": "execute_result"
    }
   ],
   "source": [
    "frase = 'Python é uma linguagem excelente'\n",
    "'py' not in frase\n",
    "'ing' in frase\n",
    "len(frase)\n",
    "frase.lower()\n",
    "frase\n",
    "frase = frase.upper()\n",
    "frase\n",
    "\n",
    "frase.split()\n",
    "frase.split('E')\n",
    "\n",
    "# dir(str)\n",
    "# help(str.center)"
   ]
  },
  {
   "cell_type": "code",
   "execution_count": 63,
   "metadata": {},
   "outputs": [
    {
     "data": {
      "text/plain": [
       "['__add__',\n",
       " '__class__',\n",
       " '__contains__',\n",
       " '__delattr__',\n",
       " '__dir__',\n",
       " '__doc__',\n",
       " '__eq__',\n",
       " '__format__',\n",
       " '__ge__',\n",
       " '__getattribute__',\n",
       " '__getitem__',\n",
       " '__getnewargs__',\n",
       " '__gt__',\n",
       " '__hash__',\n",
       " '__init__',\n",
       " '__init_subclass__',\n",
       " '__iter__',\n",
       " '__le__',\n",
       " '__len__',\n",
       " '__lt__',\n",
       " '__mod__',\n",
       " '__mul__',\n",
       " '__ne__',\n",
       " '__new__',\n",
       " '__reduce__',\n",
       " '__reduce_ex__',\n",
       " '__repr__',\n",
       " '__rmod__',\n",
       " '__rmul__',\n",
       " '__setattr__',\n",
       " '__sizeof__',\n",
       " '__str__',\n",
       " '__subclasshook__',\n",
       " 'capitalize',\n",
       " 'casefold',\n",
       " 'center',\n",
       " 'count',\n",
       " 'encode',\n",
       " 'endswith',\n",
       " 'expandtabs',\n",
       " 'find',\n",
       " 'format',\n",
       " 'format_map',\n",
       " 'index',\n",
       " 'isalnum',\n",
       " 'isalpha',\n",
       " 'isascii',\n",
       " 'isdecimal',\n",
       " 'isdigit',\n",
       " 'isidentifier',\n",
       " 'islower',\n",
       " 'isnumeric',\n",
       " 'isprintable',\n",
       " 'isspace',\n",
       " 'istitle',\n",
       " 'isupper',\n",
       " 'join',\n",
       " 'ljust',\n",
       " 'lower',\n",
       " 'lstrip',\n",
       " 'maketrans',\n",
       " 'partition',\n",
       " 'replace',\n",
       " 'rfind',\n",
       " 'rindex',\n",
       " 'rjust',\n",
       " 'rpartition',\n",
       " 'rsplit',\n",
       " 'rstrip',\n",
       " 'split',\n",
       " 'splitlines',\n",
       " 'startswith',\n",
       " 'strip',\n",
       " 'swapcase',\n",
       " 'title',\n",
       " 'translate',\n",
       " 'upper',\n",
       " 'zfill']"
      ]
     },
     "execution_count": 63,
     "metadata": {},
     "output_type": "execute_result"
    }
   ],
   "source": [
    "a = '123'\n",
    "b = ' de Oliveira 4'\n",
    "a + b\n",
    "a.__add__(b)\n",
    "str.__add__(a, b)\n",
    "\n",
    "dir(str)\n",
    "len(a)\n",
    "a.__len__()\n",
    "'1' in a\n",
    "a.__contains__('1')\n",
    "\n",
    "dir(str)"
   ]
  },
  {
   "cell_type": "markdown",
   "metadata": {},
   "source": [
    "# Lista"
   ]
  },
  {
   "cell_type": "code",
   "execution_count": 78,
   "metadata": {},
   "outputs": [
    {
     "data": {
      "text/plain": [
       "['Bia', 'Ana', 1]"
      ]
     },
     "execution_count": 78,
     "metadata": {},
     "output_type": "execute_result"
    }
   ],
   "source": [
    "lista = []\n",
    "type(lista)\n",
    "dir(list)\n",
    "# help(list)\n",
    "len(lista)\n",
    "lista.append(1)\n",
    "lista.append(5)\n",
    "lista\n",
    "len(lista)\n",
    "\n",
    "nova_lista = [1, 5, 'Ana', 'Bia']\n",
    "nova_lista\n",
    "nova_lista.remove(5)\n",
    "nova_lista\n",
    "nova_lista.reverse()\n",
    "nova_lista"
   ]
  },
  {
   "cell_type": "code",
   "execution_count": 91,
   "metadata": {},
   "outputs": [
    {
     "data": {
      "text/plain": [
       "1"
      ]
     },
     "execution_count": 91,
     "metadata": {},
     "output_type": "execute_result"
    }
   ],
   "source": [
    "lista = [1, 5, 'Rebeca', 'Guilherme', 3.1415]\n",
    "lista.index('Guilherme')\n",
    "# lista.index(42)\n",
    "lista[2]\n",
    "1 in lista\n",
    "'Rebeca' in lista\n",
    "'Pedro' not in lista\n",
    "lista[0]\n",
    "lista[4]\n",
    "# lista[5]\n",
    "lista[-1]\n",
    "lista[-5]"
   ]
  },
  {
   "cell_type": "code",
   "execution_count": 13,
   "metadata": {},
   "outputs": [
    {
     "data": {
      "text/plain": [
       "['Ana']"
      ]
     },
     "execution_count": 13,
     "metadata": {},
     "output_type": "execute_result"
    }
   ],
   "source": [
    "lista = ['Ana', 'Lia', 'Rui', 'Paulo', 'Dani']\n",
    "lista[1:3]\n",
    "lista[1:-1]\n",
    "lista[1:]\n",
    "lista[:-1]\n",
    "lista[:]\n",
    "lista[::2]\n",
    "lista[::-1]\n",
    "del lista[2]\n",
    "lista\n",
    "del lista[1:]\n",
    "lista"
   ]
  },
  {
   "cell_type": "markdown",
   "metadata": {},
   "source": [
    "# Tupla"
   ]
  },
  {
   "cell_type": "code",
   "execution_count": 29,
   "metadata": {},
   "outputs": [
    {
     "data": {
      "text/plain": [
       "4"
      ]
     },
     "execution_count": 29,
     "metadata": {},
     "output_type": "execute_result"
    }
   ],
   "source": [
    "tupla = tuple()\n",
    "tupla = ()\n",
    "type(tupla)\n",
    "dir(tupla)\n",
    "#help(tuple)\n",
    "tupla = ('um')\n",
    "type(tupla)\n",
    "tupla = ('um',)\n",
    "type(tupla)\n",
    "tupla[0]\n",
    "#tupla[0] = 'novo'\n",
    "cores = ('verde', 'Amarelo', 'Azul', 'Branco')\n",
    "cores[0]\n",
    "cores[-1]\n",
    "cores[1:]\n",
    "\n",
    "cores.index('Amarelo')\n",
    "cores.count('Azul')\n",
    "len(cores)"
   ]
  },
  {
   "cell_type": "markdown",
   "metadata": {},
   "source": [
    "# Dicionário"
   ]
  },
  {
   "cell_type": "code",
   "execution_count": 44,
   "metadata": {},
   "outputs": [
    {
     "name": "stdout",
     "output_type": "stream",
     "text": [
      "{'nome': 'Prof(a).Ana', 'idade': 38, 'cursos': ['inglês', 'português']}\n"
     ]
    },
    {
     "data": {
      "text/plain": [
       "[]"
      ]
     },
     "execution_count": 44,
     "metadata": {},
     "output_type": "execute_result"
    }
   ],
   "source": [
    "pessoa = {'nome': 'Prof(a).Ana', 'idade': 38, 'cursos': ['inglês', 'português']}\n",
    "type(pessoa)\n",
    "dir(dict)\n",
    "len(pessoa)\n",
    "\n",
    "print(pessoa)\n",
    "pessoa['nome']\n",
    "pessoa['idade']\n",
    "pessoa['cursos']\n",
    "pessoa['cursos'][1]\n",
    "#pessoa['tags']\n",
    "pessoa.keys()\n",
    "pessoa.values()\n",
    "pessoa.items()\n",
    "pessoa.get('idade')\n",
    "pessoa.get('tags')\n",
    "pessoa.get('tags', [])"
   ]
  },
  {
   "cell_type": "code",
   "execution_count": 58,
   "metadata": {},
   "outputs": [
    {
     "data": {
      "text/plain": [
       "{}"
      ]
     },
     "execution_count": 58,
     "metadata": {},
     "output_type": "execute_result"
    }
   ],
   "source": [
    "pessoa = {'nome': 'Prof.Alberto', 'idade': 43, 'cursos': ['React', 'Python']}\n",
    "pessoa['idade'] = 44\n",
    "pessoa['cursos'].append('Angular')\n",
    "pessoa\n",
    "pessoa.pop('idade')\n",
    "\n",
    "pessoa\n",
    "pessoa.update({'idade': 40, 'sexo': 'M'})\n",
    "pessoa\n",
    "del pessoa['cursos']\n",
    "pessoa\n",
    "pessoa.clear()\n",
    "pessoa"
   ]
  },
  {
   "cell_type": "markdown",
   "metadata": {},
   "source": [
    "# Conjunto"
   ]
  },
  {
   "cell_type": "code",
   "execution_count": 19,
   "metadata": {},
   "outputs": [
    {
     "name": "stdout",
     "output_type": "stream",
     "text": [
      "{'3', 'd', 'c', 'o', 'r'}\n",
      "True True\n"
     ]
    },
    {
     "data": {
      "text/plain": [
       "{1, 3}"
      ]
     },
     "execution_count": 19,
     "metadata": {},
     "output_type": "execute_result"
    }
   ],
   "source": [
    "a = {1, 2, 3}\n",
    "type(a)\n",
    "#a[0]\n",
    "a = set('coddddd3r')\n",
    "print(a)\n",
    "print('3' in a, 4 not in a)\n",
    "{1, 2, 3} == {3, 2, 1, 3}\n",
    "\n",
    "#operações\n",
    "c1 = {1, 2}\n",
    "c2 = {2, 3}\n",
    "c1.union(c2)\n",
    "c1.intersection(c2)\n",
    "c1.update(c2)\n",
    "c1\n",
    "c2 <= c1\n",
    "c1 >= c2\n",
    "\n",
    "{1, 2, 3} - {2}\n",
    "c1 - c2\n",
    "c1 -= {2}\n",
    "c1"
   ]
  },
  {
   "cell_type": "markdown",
   "metadata": {},
   "source": [
    "# Interpolação"
   ]
  },
  {
   "cell_type": "code",
   "execution_count": 38,
   "metadata": {},
   "outputs": [
    {
     "name": "stdout",
     "output_type": "stream",
     "text": [
      "Nome: Ana idade: 30 \n",
      "Nome: Ana Idade: 30\n",
      "Nome: Ana Idade: 30\n",
      "Nome: Ana Idade: 30\n"
     ]
    }
   ],
   "source": [
    "from string import Template\n",
    "\n",
    "nome, idade = 'Ana', 30\n",
    "\n",
    "print('Nome: %s idade: %d ' % (nome, idade))#mais antiga\n",
    "print('Nome: {0} Idade: {1}'.format(nome, idade)) #python < 3.6\n",
    "print(f'Nome: {nome} Idade: {idade}') #python >= 3.6\n",
    "\n",
    "s = Template('Nome: $nome Idade: $idade')\n",
    "print(s.substitute(nome = nome, idade=idade))"
   ]
  }
 ],
 "metadata": {
  "kernelspec": {
   "display_name": "Python 3",
   "language": "python",
   "name": "python3"
  },
  "language_info": {
   "codemirror_mode": {
    "name": "ipython",
    "version": 3
   },
   "file_extension": ".py",
   "mimetype": "text/x-python",
   "name": "python",
   "nbconvert_exporter": "python",
   "pygments_lexer": "ipython3",
   "version": "3.7.4"
  }
 },
 "nbformat": 4,
 "nbformat_minor": 2
}
